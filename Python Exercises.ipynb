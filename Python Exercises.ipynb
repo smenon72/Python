{
 "cells": [
  {
   "cell_type": "code",
   "execution_count": 2,
   "metadata": {},
   "outputs": [
    {
     "name": "stdout",
     "output_type": "stream",
     "text": [
      "Hello World\n"
     ]
    }
   ],
   "source": [
    "print(\"Hello World\")"
   ]
  },
  {
   "cell_type": "code",
   "execution_count": 9,
   "metadata": {},
   "outputs": [
    {
     "name": "stdout",
     "output_type": "stream",
     "text": [
      "[1, 4, 9, 16, 25, 36, 49, 64, 81, 100]\n"
     ]
    }
   ],
   "source": [
    "list = [i**2 for i in range(1,11)]\n",
    "print(list)"
   ]
  },
  {
   "cell_type": "code",
   "execution_count": 10,
   "metadata": {},
   "outputs": [
    {
     "name": "stdout",
     "output_type": "stream",
     "text": [
      "total 12812\n",
      "drwxr-xr-x 1 SMENON 197121       0 May 12 17:11 Videos\n",
      "drwxr-xr-x 1 SMENON 197121       0 May 12 15:30 .\n",
      "-rw-r--r-- 1 SMENON 197121    1015 May 12 15:30 Python Exercises.ipynb\n",
      "drwxr-xr-x 1 SMENON 197121       0 May 12 15:27 .ipynb_checkpoints\n",
      "drwxr-xr-x 1 SMENON 197121       0 May 12 15:27 .ipython\n",
      "drwxr-xr-x 1 SMENON 197121       0 May 12 15:23 Anaconda3\n",
      "drwxr-xr-x 1 SMENON 197121       0 May 12 15:15 Downloads\n",
      "drwxr-xr-x 1 SMENON 197121       0 May 12 00:01 .atom\n",
      "drwxr-xr-x 1 SMENON 197121       0 May 11 23:57 .idlerc\n",
      "-rw-r--r-- 1 SMENON 197121      67 May 11 23:40 .bash_history\n",
      "-rw-r--r-- 1 SMENON 197121     123 May 10 13:00 .gitconfig\n",
      "drwxr-xr-x 1 SMENON 197121       0 May  8 17:00 OneDrive\n",
      "drwxr-xr-x 1 SMENON 197121       0 May  8 01:33 .p2\n",
      "-rw-r--r-- 1 SMENON 197121    4759 May  7 17:23 .viminfo\n",
      "drwxr-xr-x 1 SMENON 197121       0 May  7 10:41 .ssh\n",
      "-rw-r--r-- 1 SMENON 197121 8388608 May  6 21:09 NTUSER.DAT\n",
      "drwxr-xr-x 1 SMENON 197121       0 May  4 11:56 .VirtualBox\n",
      "drwxr-xr-x 1 SMENON 197121       0 May  3 17:25 eclipse\n",
      "drwxr-xr-x 1 SMENON 197121       0 May  3 15:56 .spss\n",
      "drwxr-xr-x 1 SMENON 197121       0 May  3 15:42 Desktop\n",
      "drwxr-xr-x 1 SMENON 197121       0 Feb 10 11:52 Music\n",
      "drwxr-xr-x 1 SMENON 197121       0 Jan 31 17:39 Searches\n",
      "drwxr-xr-x 1 SMENON 197121       0 Dec 13 07:49 Links\n",
      "drwxr-xr-x 1 SMENON 197121       0 Dec 13 07:49 Saved Games\n",
      "drwxr-xr-x 1 SMENON 197121       0 Dec 13 07:49 Favorites\n",
      "drwxr-xr-x 1 SMENON 197121       0 Dec 13 07:49 Contacts\n",
      "drwxr-xr-x 1 SMENON 197121       0 Dec 13 07:49 3D Objects\n",
      "drwxr-xr-x 1 SMENON 197121       0 Dec  5 11:50 .tooling\n",
      "drwxr-xr-x 1 SMENON 197121       0 Dec  5 11:50 .eclipse\n",
      "drwxr-xr-x 1 SMENON 197121       0 Dec  5 11:49 eclipse-workspace\n",
      "drwxr-xr-x 1 SMENON 197121       0 Dec  5 11:49 eclipse-installer\n",
      "drwxr-xr-x 1 SMENON 197121       0 Nov 29 01:43 .docker\n",
      "drwxr-xr-x 1 SMENON 197121       0 May 19  2018 Documents\n",
      "drwxr-xr-x 1 SMENON 197121       0 May 19  2018 Pictures\n",
      "-r--r--r-- 1 SMENON 197121     610 May 19  2018 ntuser.pol\n",
      "-rw-r--r-- 1 SMENON 197121      20 May 19  2018 ntuser.ini\n",
      "drwxr-xr-x 1 SMENON 197121       0 May 19  2018 AppData\n",
      "-rw-r--r-- 1 SMENON 197121   65536 May 19  2018 NTUSER.DAT{6fd73f0f-5b84-11e8-8d12-00155d4b0116}.TM.blf\n",
      "-rw-r--r-- 1 SMENON 197121  524288 May 19  2018 NTUSER.DAT{6fd73f0f-5b84-11e8-8d12-00155d4b0116}.TMContainer00000000000000000001.regtrans-ms\n",
      "-rw-r--r-- 1 SMENON 197121  524288 May 19  2018 NTUSER.DAT{6fd73f0f-5b84-11e8-8d12-00155d4b0116}.TMContainer00000000000000000002.regtrans-ms\n",
      "-rw-r--r-- 1 SMENON 197121 1310720 May 19  2018 ntuser.dat.LOG1\n",
      "-rw-r--r-- 1 SMENON 197121 2065408 May 19  2018 ntuser.dat.LOG2\n",
      "lrwxrwxrwx 1 SMENON 197121      56 May 19  2018 Cookies -> /c/Users/ssk/AppData/Local/Microsoft/Windows/INetCookies\n",
      "lrwxrwxrwx 1 SMENON 197121      26 May 19  2018 Local Settings -> /c/Users/ssk/AppData/Local\n",
      "lrwxrwxrwx 1 SMENON 197121      53 May 19  2018 SendTo -> /c/Users/ssk/AppData/Roaming/Microsoft/Windows/SendTo\n",
      "lrwxrwxrwx 1 SMENON 197121      57 May 19  2018 Start Menu -> /c/Users/ssk/AppData/Roaming/Microsoft/Windows/Start Menu\n",
      "lrwxrwxrwx 1 SMENON 197121      56 May 19  2018 Templates -> /c/Users/ssk/AppData/Roaming/Microsoft/Windows/Templates\n",
      "lrwxrwxrwx 1 SMENON 197121      64 May 19  2018 PrintHood -> /c/Users/ssk/AppData/Roaming/Microsoft/Windows/Printer Shortcuts\n",
      "lrwxrwxrwx 1 SMENON 197121      53 May 19  2018 Recent -> /c/Users/ssk/AppData/Roaming/Microsoft/Windows/Recent\n",
      "lrwxrwxrwx 1 SMENON 197121      64 May 19  2018 NetHood -> /c/Users/ssk/AppData/Roaming/Microsoft/Windows/Network Shortcuts\n",
      "lrwxrwxrwx 1 SMENON 197121      28 May 19  2018 Application Data -> /c/Users/ssk/AppData/Roaming\n",
      "lrwxrwxrwx 1 SMENON 197121      22 May 19  2018 My Documents -> /c/Users/ssk/Documents\n",
      "drwxr-xr-x 1 SMENON 197121       0 May 19  2018 ..\n",
      "-rw-r--r-- 1 SMENON 197121       0 Feb 22  2018 Sti_Trace.log\n",
      "drwxr-xr-x 1 SMENON 197121       0 Nov 21  2017 MicrosoftEdgeBackups\n",
      "drwxr-xr-x 1 SMENON 197121       0 Jun 19  2017 IntelGraphicsProfiles\n",
      "drwxr-xr-x 1 SMENON 197121       0 Nov 17  2016 .android\n"
     ]
    }
   ],
   "source": [
    "!ls -lat"
   ]
  },
  {
   "cell_type": "code",
   "execution_count": 11,
   "metadata": {},
   "outputs": [
    {
     "ename": "NameError",
     "evalue": "name 'x' is not defined",
     "output_type": "error",
     "traceback": [
      "\u001b[1;31m---------------------------------------------------------------------------\u001b[0m",
      "\u001b[1;31mNameError\u001b[0m                                 Traceback (most recent call last)",
      "\u001b[1;32m<ipython-input-11-7ddf1feeda6e>\u001b[0m in \u001b[0;36m<module>\u001b[1;34m\u001b[0m\n\u001b[1;32m----> 1\u001b[1;33m \u001b[0mx\u001b[0m \u001b[1;33m<\u001b[0m\u001b[1;33m-\u001b[0m \u001b[1;36m3\u001b[0m\u001b[1;33m\u001b[0m\u001b[1;33m\u001b[0m\u001b[0m\n\u001b[0m\u001b[0;32m      2\u001b[0m \u001b[0my\u001b[0m \u001b[1;33m<\u001b[0m\u001b[1;33m-\u001b[0m \u001b[1;36m4\u001b[0m\u001b[1;33m\u001b[0m\u001b[1;33m\u001b[0m\u001b[0m\n\u001b[0;32m      3\u001b[0m \u001b[0mz\u001b[0m \u001b[1;33m<\u001b[0m\u001b[1;33m-\u001b[0m \u001b[0mx\u001b[0m\u001b[1;33m*\u001b[0m\u001b[0my\u001b[0m\u001b[1;33m\u001b[0m\u001b[1;33m\u001b[0m\u001b[0m\n\u001b[0;32m      4\u001b[0m \u001b[0mprint\u001b[0m\u001b[1;33m(\u001b[0m\u001b[0mz\u001b[0m\u001b[1;33m)\u001b[0m\u001b[1;33m\u001b[0m\u001b[1;33m\u001b[0m\u001b[0m\n",
      "\u001b[1;31mNameError\u001b[0m: name 'x' is not defined"
     ]
    }
   ],
   "source": [
    "x <- 3\n",
    "y <- 4\n",
    "z <- x*y\n",
    "print(z)"
   ]
  },
  {
   "cell_type": "code",
   "execution_count": 15,
   "metadata": {},
   "outputs": [
    {
     "name": "stdout",
     "output_type": "stream",
     "text": [
      "[[1 2 3]\n",
      " [4 5 6]\n",
      " [7 8 9]]\n"
     ]
    }
   ],
   "source": [
    "import numpy as np\n",
    "\n",
    "arr = np.array([[1,2,3],[4,5,6],[7,8,9]])\n",
    "print(arr[:3,])"
   ]
  },
  {
   "cell_type": "code",
   "execution_count": 22,
   "metadata": {},
   "outputs": [
    {
     "name": "stdout",
     "output_type": "stream",
     "text": [
      "[[ 1.11895141 -0.5205213   1.45973178]\n",
      " [-0.4067114  -0.18040313 -0.34307698]\n",
      " [-0.43575267 -1.09598234  1.66242505]]\n",
      "1.2586604350926733\n",
      "[ 0.27648734 -1.79690676  2.77907985]\n"
     ]
    },
    {
     "ename": "TypeError",
     "evalue": "sum() takes no keyword arguments",
     "output_type": "error",
     "traceback": [
      "\u001b[1;31m---------------------------------------------------------------------------\u001b[0m",
      "\u001b[1;31mTypeError\u001b[0m                                 Traceback (most recent call last)",
      "\u001b[1;32m<ipython-input-22-e65958ed02b2>\u001b[0m in \u001b[0;36m<module>\u001b[1;34m\u001b[0m\n\u001b[0;32m      3\u001b[0m \u001b[0mprint\u001b[0m\u001b[1;33m(\u001b[0m\u001b[0mar1\u001b[0m\u001b[1;33m.\u001b[0m\u001b[0msum\u001b[0m\u001b[1;33m(\u001b[0m\u001b[1;33m)\u001b[0m\u001b[1;33m)\u001b[0m\u001b[1;33m\u001b[0m\u001b[1;33m\u001b[0m\u001b[0m\n\u001b[0;32m      4\u001b[0m \u001b[0mprint\u001b[0m\u001b[1;33m(\u001b[0m\u001b[0msum\u001b[0m\u001b[1;33m(\u001b[0m\u001b[0mar1\u001b[0m\u001b[1;33m)\u001b[0m\u001b[1;33m)\u001b[0m\u001b[1;33m\u001b[0m\u001b[1;33m\u001b[0m\u001b[0m\n\u001b[1;32m----> 5\u001b[1;33m \u001b[0mprint\u001b[0m\u001b[1;33m(\u001b[0m\u001b[0msum\u001b[0m\u001b[1;33m(\u001b[0m\u001b[0mar1\u001b[0m\u001b[1;33m,\u001b[0m\u001b[0maxis\u001b[0m\u001b[1;33m=\u001b[0m\u001b[1;36m0\u001b[0m\u001b[1;33m)\u001b[0m\u001b[1;33m)\u001b[0m\u001b[1;33m\u001b[0m\u001b[1;33m\u001b[0m\u001b[0m\n\u001b[0m\u001b[0;32m      6\u001b[0m \u001b[0mprint\u001b[0m\u001b[1;33m(\u001b[0m\u001b[0msum\u001b[0m\u001b[1;33m(\u001b[0m\u001b[0mar1\u001b[0m\u001b[1;33m,\u001b[0m\u001b[0maxis\u001b[0m\u001b[1;33m=\u001b[0m\u001b[1;36m1\u001b[0m\u001b[1;33m)\u001b[0m\u001b[1;33m)\u001b[0m\u001b[1;33m\u001b[0m\u001b[1;33m\u001b[0m\u001b[0m\n",
      "\u001b[1;31mTypeError\u001b[0m: sum() takes no keyword arguments"
     ]
    }
   ],
   "source": [
    "ar1 = np.random.randn(3,3)\n",
    "print(ar1)\n",
    "print(ar1.sum())\n",
    "print(sum(ar1))\n",
    "print(sum(ar1,axis=0))\n",
    "print(sum(ar1,axis=1))"
   ]
  },
  {
   "cell_type": "code",
   "execution_count": null,
   "metadata": {},
   "outputs": [],
   "source": [
    "from skiimage import data\n",
    "photo = misc.imread()"
   ]
  }
 ],
 "metadata": {
  "kernelspec": {
   "display_name": "Python 3",
   "language": "python",
   "name": "python3"
  },
  "language_info": {
   "codemirror_mode": {
    "name": "ipython",
    "version": 3
   },
   "file_extension": ".py",
   "mimetype": "text/x-python",
   "name": "python",
   "nbconvert_exporter": "python",
   "pygments_lexer": "ipython3",
   "version": "3.7.3"
  }
 },
 "nbformat": 4,
 "nbformat_minor": 2
}
