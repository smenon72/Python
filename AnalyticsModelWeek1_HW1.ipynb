{
 "cells": [
  {
   "cell_type": "code",
   "execution_count": 1,
   "metadata": {},
   "outputs": [
    {
     "name": "stdout",
     "output_type": "stream",
     "text": [
      "[1] \"Hello World\"\n"
     ]
    }
   ],
   "source": [
    "print(\"Hello World\")"
   ]
  },
  {
   "cell_type": "code",
   "execution_count": 5,
   "metadata": {},
   "outputs": [
    {
     "ename": "ERROR",
     "evalue": "Error in library(keras): there is no package called 'keras'\n",
     "output_type": "error",
     "traceback": [
      "Error in library(keras): there is no package called 'keras'\nTraceback:\n",
      "1. library(keras)",
      "2. stop(txt, domain = NA)"
     ]
    }
   ],
   "source": [
    "library(ggplot2)\n",
    "library(tidyverse)\n",
    "library(keras)\n",
    "\n"
   ]
  },
  {
   "cell_type": "code",
   "execution_count": 7,
   "metadata": {},
   "outputs": [
    {
     "ename": "ERROR",
     "evalue": "Error in installpackage(keras): could not find function \"installpackage\"\n",
     "output_type": "error",
     "traceback": [
      "Error in installpackage(keras): could not find function \"installpackage\"\nTraceback:\n"
     ]
    }
   ],
   "source": [
    "installpackage(keras)"
   ]
  }
 ],
 "metadata": {
  "kernelspec": {
   "display_name": "R",
   "language": "R",
   "name": "ir"
  },
  "language_info": {
   "codemirror_mode": "r",
   "file_extension": ".r",
   "mimetype": "text/x-r-source",
   "name": "R",
   "pygments_lexer": "r",
   "version": "3.5.1"
  }
 },
 "nbformat": 4,
 "nbformat_minor": 2
}
